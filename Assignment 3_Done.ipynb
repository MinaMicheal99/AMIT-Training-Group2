{
 "cells": [
  {
   "cell_type": "markdown",
   "metadata": {},
   "source": [
    "# Assignment 3"
   ]
  },
  {
   "cell_type": "markdown",
   "metadata": {},
   "source": [
    "### Write a function to count the number 4 in a given list."
   ]
  },
  {
   "cell_type": "code",
   "execution_count": 2,
   "metadata": {},
   "outputs": [
    {
     "name": "stdout",
     "output_type": "stream",
     "text": [
      "3\n"
     ]
    }
   ],
   "source": [
    "def  detect_4(list):\n",
    "    counter=0               #we will add the counter here with initial condition 0\n",
    "    for i in list: \n",
    "       \n",
    "      if i==4:\n",
    "         counter+=1           #here when it detect 4 it will add to the counter\n",
    "    \n",
    "    print(counter)\n",
    "        \n",
    "        \n",
    "        \n",
    "detect_4([2,4,5,4,3,4])"
   ]
  },
  {
   "cell_type": "markdown",
   "metadata": {},
   "source": [
    "### write a  function to check whether a number is divisible by another number."
   ]
  },
  {
   "cell_type": "code",
   "execution_count": 5,
   "metadata": {},
   "outputs": [
    {
     "name": "stdout",
     "output_type": "stream",
     "text": [
      "Yes first No. is divisible by another\n",
      "No first No. isn't divisible by another\n"
     ]
    }
   ],
   "source": [
    "def div(x,y):\n",
    "    \n",
    "    if x % y == 0:\n",
    "        \n",
    "        print('Yes first No. is divisible by another')\n",
    "    \n",
    "    else:\n",
    "        \n",
    "        print(\"No first No. isn't divisible by another\")\n",
    "        \n",
    "div(5,1)\n",
    "div(5,3)"
   ]
  },
  {
   "cell_type": "markdown",
   "metadata": {},
   "source": [
    "### write a function to find the maximum and minimum numbers from a sequence of numbers."
   ]
  },
  {
   "cell_type": "code",
   "execution_count": 18,
   "metadata": {},
   "outputs": [
    {
     "name": "stdout",
     "output_type": "stream",
     "text": [
      "4\n",
      "2\n"
     ]
    }
   ],
   "source": [
    "def max_min(list):     #([2,4,5,6,7,8])  #max(list) #min(list)\n",
    "    maximum=0                           #max() add variable for max\n",
    "    minimum=float('inf')                #min() add variable for min\n",
    "    for i in list:                      #read the i from the list \n",
    "        #print(i)\n",
    "        if i > maximum:                 \n",
    "            maximum=i\n",
    "            \n",
    "    print(maximum)\n",
    "    \n",
    "    for i in list:\n",
    "        #print(i)\n",
    "        if i < minimum:\n",
    "            minimum=i\n",
    "            \n",
    "    print(minimum)\n",
    "       \n",
    "            \n",
    "            \n",
    "    \n",
    "max_min([2,3,4])    "
   ]
  },
  {
   "cell_type": "markdown",
   "metadata": {},
   "source": [
    "### Write a Python function that takes two lists and returns True if they have at least one common member."
   ]
  },
  {
   "cell_type": "code",
   "execution_count": 39,
   "metadata": {},
   "outputs": [
    {
     "name": "stdout",
     "output_type": "stream",
     "text": [
      "True\n",
      "False\n"
     ]
    }
   ],
   "source": [
    "#list1=[5]\n",
    "def comparator(list1,list2):  \n",
    "    isfound=False  \n",
    "       \n",
    "    for i in list1:                    #nested loop to read i in y  and do flag to prevent the  \n",
    "            #1 to 6\n",
    "        for y in list2:\n",
    "            \n",
    "            if i==y:\n",
    "                \n",
    "                \n",
    "                isfound=True\n",
    "                \n",
    "   \n",
    "    if isfound==True:\n",
    "        print('True')\n",
    "        \n",
    "    else:\n",
    "        print('False')\n",
    "    \n",
    "   \n",
    "                    \n",
    "\n",
    "comparator([2,3,4,5],[6,8,2,1])            \n",
    "comparator([7,3,4,5],[6,8,2,1])            "
   ]
  },
  {
   "cell_type": "markdown",
   "metadata": {},
   "source": [
    "### Write a Python function to calculate the factorial of a number (a non-negative integer). The function accepts the number from the user"
   ]
  },
  {
   "cell_type": "code",
   "execution_count": 44,
   "metadata": {},
   "outputs": [
    {
     "name": "stdout",
     "output_type": "stream",
     "text": [
      "120\n"
     ]
    }
   ],
   "source": [
    "def fact(num):\n",
    "    \n",
    "    number=abs(num)           \n",
    "    \n",
    "    factorial=1               #we added a variable with inital function 1 to multiply we cant use 0 becs it wont add the value of multiplication\n",
    "    \n",
    "    \n",
    "    for i in range(1,number+1) :  #we put range here .. we added on the destined number becs it doesnt count on the syntax it self\n",
    "        \n",
    "        factorial=factorial*i    #here we add the factorial multiplication in this variable \n",
    "        \n",
    "    print(factorial)\n",
    "\n",
    "    \n",
    "fact(5)"
   ]
  },
  {
   "cell_type": "markdown",
   "metadata": {},
   "source": [
    "### Write a Python function to check whether a number is in a given range.\n",
    "\n",
    "### The range is from 3 to 11\n"
   ]
  },
  {
   "cell_type": "code",
   "execution_count": 40,
   "metadata": {},
   "outputs": [
    {
     "name": "stdout",
     "output_type": "stream",
     "text": [
      "False\n",
      "True\n",
      "True\n",
      "False\n",
      "False\n"
     ]
    }
   ],
   "source": [
    "def test(number):\n",
    "    \n",
    "    \n",
    "    \n",
    "\n",
    "    for i in range(3,11):        #read from the range given in the example\n",
    "        \n",
    "         isfound=False             #put flag  for escaping the if loop condition and check on it later\n",
    "        \n",
    "         if number>=3 and number<=10:\n",
    "                \n",
    "            isfound=True\n",
    "            \n",
    "            break\n",
    "                                     \n",
    "    if isfound==True: \n",
    "           print('True')\n",
    "    else: \n",
    "           print('False')\n",
    "                       \n",
    "            \n",
    "test(-110)\n",
    "test(3)\n",
    "test(10)\n",
    "test(11)\n",
    "test(80)"
   ]
  },
  {
   "cell_type": "markdown",
   "metadata": {},
   "source": [
    "### Write a  program to create the multiplication table (from 1 to 10) of a number."
   ]
  },
  {
   "cell_type": "code",
   "execution_count": 1,
   "metadata": {},
   "outputs": [
    {
     "name": "stdout",
     "output_type": "stream",
     "text": [
      "1 X 5 = 5\n",
      "2 X 5 = 10\n",
      "3 X 5 = 15\n",
      "4 X 5 = 20\n",
      "5 X 5 = 25\n",
      "6 X 5 = 30\n",
      "7 X 5 = 35\n",
      "8 X 5 = 40\n",
      "9 X 5 = 45\n",
      "10 X 5 = 50\n"
     ]
    }
   ],
   "source": [
    "def multiplication(number):             #\n",
    "    \n",
    "    for i in range(1,11):\n",
    "        \n",
    "        multiply= number * i\n",
    "        print(i,\"X\",number,\"=\",multiply)\n",
    "#print(\"{} X {} = {}\".format(i,number,multiply))\n",
    "multiplication(5)\n"
   ]
  },
  {
   "cell_type": "markdown",
   "metadata": {},
   "source": [
    "#### LESSER OF TWO EVENS: Write a function that returns the lesser of two given numbers *if* both numbers are even, but returns the greater if one or both numbers are odd\n",
    "    lesser_of_two_evens(2,4) --> 2\n",
    "    lesser_of_two_evens(2,5) --> 5"
   ]
  },
  {
   "cell_type": "code",
   "execution_count": 54,
   "metadata": {},
   "outputs": [
    {
     "name": "stdout",
     "output_type": "stream",
     "text": [
      "2\n",
      "4\n"
     ]
    }
   ],
   "source": [
    "def lesser(num1,num2):\n",
    "    \n",
    "    if num1 % 2 == 0 and num2 % 2 == 0 :      #check the condition given in the question \n",
    "        \n",
    "        minimum=min(num1,num2)\n",
    "        \n",
    "        print(minimum)\n",
    "    else:\n",
    "        \n",
    "        maximum=max(num1,num2)\n",
    "        \n",
    "        print(maximum)\n",
    "        \n",
    "\n",
    "lesser(2,8)        \n",
    "lesser(3,4)"
   ]
  },
  {
   "cell_type": "code",
   "execution_count": null,
   "metadata": {},
   "outputs": [],
   "source": []
  }
 ],
 "metadata": {
  "kernelspec": {
   "display_name": "Python 3 (ipykernel)",
   "language": "python",
   "name": "python3"
  },
  "language_info": {
   "codemirror_mode": {
    "name": "ipython",
    "version": 3
   },
   "file_extension": ".py",
   "mimetype": "text/x-python",
   "name": "python",
   "nbconvert_exporter": "python",
   "pygments_lexer": "ipython3",
   "version": "3.9.12"
  }
 },
 "nbformat": 4,
 "nbformat_minor": 2
}
